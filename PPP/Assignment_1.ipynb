{
 "cells": [
  {
   "cell_type": "markdown",
   "metadata": {},
   "source": [
    "### 과제 1"
   ]
  },
  {
   "cell_type": "markdown",
   "metadata": {},
   "source": [
    "#####  a=\"Hello Python\" 문자열을 Slicing과 연결 연산자 (+)를 사용하여 \"Python Hello\"로 변경하시오.\n",
    "[주의] a 변수 자체에 \"Python Hello\" 문자열이 저장되어야 함"
   ]
  },
  {
   "cell_type": "code",
   "execution_count": 4,
   "metadata": {},
   "outputs": [
    {
     "name": "stdout",
     "output_type": "stream",
     "text": [
      "Python Hello\n"
     ]
    }
   ],
   "source": [
    "a=\"Hello Python\"\n",
    "a=a[6:] + a[5:6] + a[:5]\n",
    "print(a)"
   ]
  },
  {
   "cell_type": "markdown",
   "metadata": {},
   "source": [
    "##### b=\"Hello Python World\" 문자열을 Slicing과 연결 연산자 (+)를 사용하여 \"World Python Hello\"로 변경하시오.\n",
    "[주의] b 변수 자체에 \"Python Hello\" 문자열이 저장되어야 함"
   ]
  },
  {
   "cell_type": "code",
   "execution_count": 12,
   "metadata": {},
   "outputs": [
    {
     "name": "stdout",
     "output_type": "stream",
     "text": [
      "World Python Hello\n"
     ]
    }
   ],
   "source": [
    "b=\"Hello Python World\" \n",
    "print(b[13:] + b[5:6] + b[6:12] +  b[5:6] + b[:5])\n",
    "b=b[6:12] +  b[5:6] + b[:5]"
   ]
  },
  {
   "cell_type": "markdown",
   "metadata": {},
   "source": [
    "##### c=\"Hello\"를 \"olleH\"로 변경하시오\n",
    "[주의] c 변수 자체에 \"olleH\" 문자열이 저장되어야 함"
   ]
  },
  {
   "cell_type": "code",
   "execution_count": 14,
   "metadata": {},
   "outputs": [
    {
     "name": "stdout",
     "output_type": "stream",
     "text": [
      "olleH\n"
     ]
    }
   ],
   "source": [
    "c=\"Hello\"\n",
    "c=c[::-1]\n",
    "print(c)"
   ]
  },
  {
   "cell_type": "markdown",
   "metadata": {},
   "source": [
    "##### s=\"python\"에 대해 다음 문제를 풀어보시오.\n",
    "  1. s[0], s[0][0], s[0][0][0]은 각각 어떤 값이 나오는지 확인하고 그 이유를 나름대로 설명해 보시오.\n",
    "  2. s[-100], s[100]은 값이 나오는지 에러가 나오는지 확인하고 그 결과에 대한 이유를 나름대로 설명해 보시오.\n",
    "  3. s[-100, 100]은 값이 나오는지 에러가 나오는지 확인하고 그 결과에 대한 이유를 나름대로 설명해 보시오.\n",
    "  4. s[1:-1]의 결과를 확인하고 그 결과에 대한 이유를 정확하게 설명하시오.\n",
    "  5. s[3:-3]의 결과를 확인하고 그 결과에 대한 이유를 정확하게 설명하시오."
   ]
  },
  {
   "cell_type": "code",
   "execution_count": 23,
   "metadata": {},
   "outputs": [
    {
     "name": "stdout",
     "output_type": "stream",
     "text": [
      "p\n",
      "p\n",
      "p\n"
     ]
    }
   ],
   "source": [
    "s=\"python\"\n",
    "print(s[0])\n",
    "print(s[0][0])\n",
    "print(s[0][0][0])"
   ]
  },
  {
   "cell_type": "markdown",
   "metadata": {},
   "source": [
    " +  결국 몇 차원의 배열이 되었건 가장 첫번째에 들어온 값을 읽는다는 것에는 변함이 없으므로 모든 경우에 p가 출력된다고 생각한다. "
   ]
  },
  {
   "cell_type": "code",
   "execution_count": 27,
   "metadata": {},
   "outputs": [
    {
     "ename": "IndexError",
     "evalue": "string index out of range",
     "output_type": "error",
     "traceback": [
      "\u001b[1;31m---------------------------------------------------------------------------\u001b[0m",
      "\u001b[1;31mIndexError\u001b[0m                                Traceback (most recent call last)",
      "\u001b[1;32m<ipython-input-27-761f1b6761ec>\u001b[0m in \u001b[0;36m<module>\u001b[1;34m()\u001b[0m\n\u001b[1;32m----> 1\u001b[1;33m \u001b[0mprint\u001b[0m\u001b[1;33m(\u001b[0m\u001b[0ms\u001b[0m\u001b[1;33m[\u001b[0m\u001b[1;36m100\u001b[0m\u001b[1;33m]\u001b[0m\u001b[1;33m)\u001b[0m\u001b[1;33m\u001b[0m\u001b[0m\n\u001b[0m",
      "\u001b[1;31mIndexError\u001b[0m: string index out of range"
     ]
    }
   ],
   "source": [
    "print(s[100])"
   ]
  },
  {
   "cell_type": "code",
   "execution_count": 28,
   "metadata": {},
   "outputs": [
    {
     "ename": "IndexError",
     "evalue": "string index out of range",
     "output_type": "error",
     "traceback": [
      "\u001b[1;31m---------------------------------------------------------------------------\u001b[0m",
      "\u001b[1;31mIndexError\u001b[0m                                Traceback (most recent call last)",
      "\u001b[1;32m<ipython-input-28-e8456bd661d2>\u001b[0m in \u001b[0;36m<module>\u001b[1;34m()\u001b[0m\n\u001b[1;32m----> 1\u001b[1;33m \u001b[0mprint\u001b[0m\u001b[1;33m(\u001b[0m\u001b[0ms\u001b[0m\u001b[1;33m[\u001b[0m\u001b[1;33m-\u001b[0m\u001b[1;36m100\u001b[0m\u001b[1;33m]\u001b[0m\u001b[1;33m)\u001b[0m\u001b[1;33m\u001b[0m\u001b[0m\n\u001b[0m",
      "\u001b[1;31mIndexError\u001b[0m: string index out of range"
     ]
    }
   ],
   "source": [
    "print(s[-100])"
   ]
  },
  {
   "cell_type": "markdown",
   "metadata": {},
   "source": [
    "  + s라는 문자열의 범위 밖의 인덱스를 불러왔기 때문에 에러가 발생한다."
   ]
  },
  {
   "cell_type": "code",
   "execution_count": 34,
   "metadata": {},
   "outputs": [
    {
     "ename": "IndexError",
     "evalue": "string index out of range",
     "output_type": "error",
     "traceback": [
      "\u001b[1;31m---------------------------------------------------------------------------\u001b[0m",
      "\u001b[1;31mIndexError\u001b[0m                                Traceback (most recent call last)",
      "\u001b[1;32m<ipython-input-34-76a6f419587a>\u001b[0m in \u001b[0;36m<module>\u001b[1;34m()\u001b[0m\n\u001b[1;32m----> 1\u001b[1;33m \u001b[0mprint\u001b[0m\u001b[1;33m(\u001b[0m\u001b[0ms\u001b[0m\u001b[1;33m[\u001b[0m\u001b[1;33m-\u001b[0m\u001b[1;36m100\u001b[0m\u001b[1;33m]\u001b[0m\u001b[1;33m[\u001b[0m\u001b[1;36m100\u001b[0m\u001b[1;33m]\u001b[0m\u001b[1;33m)\u001b[0m\u001b[1;33m\u001b[0m\u001b[0m\n\u001b[0m",
      "\u001b[1;31mIndexError\u001b[0m: string index out of range"
     ]
    }
   ],
   "source": [
    "print(s[-100][100])"
   ]
  },
  {
   "cell_type": "markdown",
   "metadata": {},
   "source": [
    "  + s라는 문자열의 범위 밖의 인덱스를 불러왔기 때문에 에러가 발생한다."
   ]
  },
  {
   "cell_type": "code",
   "execution_count": 35,
   "metadata": {},
   "outputs": [
    {
     "name": "stdout",
     "output_type": "stream",
     "text": [
      "ytho\n"
     ]
    }
   ],
   "source": [
    "print(s[1:-1])"
   ]
  },
  {
   "cell_type": "markdown",
   "metadata": {},
   "source": [
    " - Slicing의 형식은 [start(included) : stop(excluded) : step] 이므로 위와 같은 경우 start = 1, stop = -1 이 된다. 즉, s[1]=y부터 읽게되고 순서대로 읽어나가서 마지막 항목이 되는 s[-1] 앞까지 읽게 되므로 n 앞인 o까지 출력하게 된다."
   ]
  },
  {
   "cell_type": "code",
   "execution_count": 39,
   "metadata": {
    "scrolled": true
   },
   "outputs": [
    {
     "name": "stdout",
     "output_type": "stream",
     "text": [
      "\n"
     ]
    }
   ],
   "source": [
    "print(s[3:-3])"
   ]
  },
  {
   "cell_type": "markdown",
   "metadata": {},
   "source": [
    "  - s[3] = h부터 읽기 시작해 s[-3] = h 앞까지 읽어야 하는데, 이렇게 되면 시작하는 지점보다 끝나는 지점이 앞에 전에 있게 되므로 출력할 내용이 없어지므로 아무것도 출력되지 않는다."
   ]
  },
  {
   "cell_type": "markdown",
   "metadata": {},
   "source": [
    "##### for문을 활용하여 1부터 100사이의 홀수를 출력하시오."
   ]
  },
  {
   "cell_type": "code",
   "execution_count": 4,
   "metadata": {},
   "outputs": [
    {
     "name": "stdout",
     "output_type": "stream",
     "text": [
      "1\n",
      "3\n",
      "5\n",
      "7\n",
      "9\n",
      "11\n",
      "13\n",
      "15\n",
      "17\n",
      "19\n",
      "21\n",
      "23\n",
      "25\n",
      "27\n",
      "29\n",
      "31\n",
      "33\n",
      "35\n",
      "37\n",
      "39\n",
      "41\n",
      "43\n",
      "45\n",
      "47\n",
      "49\n",
      "51\n",
      "53\n",
      "55\n",
      "57\n",
      "59\n",
      "61\n",
      "63\n",
      "65\n",
      "67\n",
      "69\n",
      "71\n",
      "73\n",
      "75\n",
      "77\n",
      "79\n",
      "81\n",
      "83\n",
      "85\n",
      "87\n",
      "89\n",
      "91\n",
      "93\n",
      "95\n",
      "97\n",
      "99\n"
     ]
    }
   ],
   "source": [
    "for x in range(100):\n",
    "    if ((x%2) != 0):\n",
    "        continue\n",
    "    print (x+1)"
   ]
  },
  {
   "cell_type": "markdown",
   "metadata": {},
   "source": [
    "  #####  while문을 활용하여 1부터 100사이의 짝수의 합을 계산하여 출력하시오."
   ]
  },
  {
   "cell_type": "code",
   "execution_count": 11,
   "metadata": {},
   "outputs": [
    {
     "name": "stdout",
     "output_type": "stream",
     "text": [
      "2550\n"
     ]
    }
   ],
   "source": [
    "count = 1\n",
    "sum = 0\n",
    "while count < 101:\n",
    "    if ((count%2) == 0): \n",
    "        sum = sum + count\n",
    "    count =  count + 1\n",
    "print(sum)"
   ]
  },
  {
   "cell_type": "markdown",
   "metadata": {
    "collapsed": true
   },
   "source": [
    "  #####  사용자로 부터 임의의 정수를 입력받고, 해당 숫자를 역순으로 출력하는 프로그램을 작성하시오.\n",
    "\n",
    "  - [실행 예]\n",
    "\n",
    "  정수를 입력하세요: 3125\n",
    "  \n",
    "  숫자 역순은 5213 입니다."
   ]
  },
  {
   "cell_type": "code",
   "execution_count": 13,
   "metadata": {},
   "outputs": [
    {
     "name": "stdout",
     "output_type": "stream",
     "text": [
      "정수를 입력하세요: 12554\n",
      "숫자 역순은 45521 입니다.\n"
     ]
    }
   ],
   "source": [
    "number = input('정수를 입력하세요: ')\n",
    "print(\"숫자 역순은\",number[::-1],\"입니다.\")"
   ]
  },
  {
   "cell_type": "markdown",
   "metadata": {
    "collapsed": true
   },
   "source": [
    "  ######  사용자로 부터 정수를 입력받아서 1부터 그 사이에 존재하는 소수 (Prime number)를 출력하는 파이썬 프로그램을 작성하시오."
   ]
  },
  {
   "cell_type": "code",
   "execution_count": 49,
   "metadata": {},
   "outputs": [
    {
     "name": "stdout",
     "output_type": "stream",
     "text": [
      "정수를 입력하세요: 100\n",
      "2\n",
      "3\n",
      "5\n",
      "7\n",
      "11\n",
      "13\n",
      "17\n",
      "19\n",
      "23\n",
      "29\n",
      "31\n",
      "37\n",
      "41\n",
      "43\n",
      "47\n",
      "53\n",
      "59\n",
      "61\n",
      "67\n",
      "71\n",
      "73\n",
      "79\n",
      "83\n",
      "89\n",
      "97\n"
     ]
    }
   ],
   "source": [
    "number = int(input('정수를 입력하세요: '))\n",
    "count =1\n",
    "i=1\n",
    "c=0\n",
    "while count<number+1:\n",
    "    while i<(count+1):\n",
    "        if count%i == 0:\n",
    "            c=c+1\n",
    "           \n",
    "        i=i+1\n",
    "    if c==2:\n",
    "        print(count)\n",
    "    count=count+1\n",
    "    i=1\n",
    "    c=0"
   ]
  },
  {
   "cell_type": "markdown",
   "metadata": {},
   "source": [
    " - [ACM-ICPC 문제 2439번]\n",
    "  별찍기-2"
   ]
  },
  {
   "cell_type": "code",
   "execution_count": 13,
   "metadata": {},
   "outputs": [
    {
     "name": "stdout",
     "output_type": "stream",
     "text": [
      "    *\n",
      "   **\n",
      "  ***\n",
      " ****\n",
      "*****\n"
     ]
    }
   ],
   "source": [
    "number = int(input(''))\n",
    "s=list(range(1,number+1))\n",
    "k=0\n",
    "r=0\n",
    "c=0\n",
    "while r<(number):\n",
    "    s[r]=\" \"\n",
    "    r=r+1\n",
    "r=0\n",
    "while k<number:\n",
    "    while c<k+1:\n",
    "        s[c]='*'\n",
    "        c=c+1     \n",
    "    s=s[::-1] \n",
    "    for x in s:\n",
    "        print(x, end=\"\")\n",
    "    print()    \n",
    "    while r<(number):\n",
    "        s[r]=\" \"\n",
    "        r=r+1\n",
    "    r=0\n",
    "    c=0    \n",
    "    k=k+1"
   ]
  },
  {
   "cell_type": "markdown",
   "metadata": {
    "collapsed": true
   },
   "source": [
    "  ![이미지](https://github.com/fun5733/pythonHW/blob/master/PPP/1.png?raw=true)"
   ]
  },
  {
   "cell_type": "markdown",
   "metadata": {},
   "source": [
    " - [ACM-ICPC 문제 1924번]\n",
    " 2007년"
   ]
  },
  {
   "cell_type": "code",
   "execution_count": 13,
   "metadata": {},
   "outputs": [
    {
     "name": "stdout",
     "output_type": "stream",
     "text": [
      "2 22\n",
      "THU\n"
     ]
    }
   ],
   "source": [
    "month,day = input().split()\n",
    "month=int(month)\n",
    "day=int(day)\n",
    "s=0\n",
    "if month==2:\n",
    "    s=s+3\n",
    "elif month==3:\n",
    "    s=s+3\n",
    "elif month==4:\n",
    "    s=s+6\n",
    "elif month==5:\n",
    "    s=s+1\n",
    "elif month==6:\n",
    "    s=s+4\n",
    "elif month==7:\n",
    "    s=s+6\n",
    "elif month==8:\n",
    "    s=s+2\n",
    "elif month==9:\n",
    "    s=s+5\n",
    "elif month==11:\n",
    "    s=s+3\n",
    "elif month==12:\n",
    "    s=s+5\n",
    "\n",
    "s=s+day\n",
    "c=s%7\n",
    "if(c==1):\n",
    "    print(\"MON\")\n",
    "elif(c==2):\n",
    "    print(\"TUE\")\n",
    "elif(c==3):\n",
    "    print(\"WED\")\n",
    "elif(c==4):\n",
    "    print(\"THU\")\n",
    "elif(c==5):\n",
    "    print(\"FRI\")\n",
    "elif(c==6):\n",
    "    print(\"SAT\")\n",
    "else:\n",
    "    print(\"SUN\")"
   ]
  },
  {
   "cell_type": "markdown",
   "metadata": {},
   "source": [
    " ![이미지](https://github.com/fun5733/pythonHW/blob/master/PPP/2.png?raw=true)"
   ]
  },
  {
   "cell_type": "markdown",
   "metadata": {},
   "source": [
    " - [ACM-ICPC 문제 11720번]\n",
    " 숫자의 합"
   ]
  },
  {
   "cell_type": "code",
   "execution_count": 3,
   "metadata": {},
   "outputs": [
    {
     "name": "stdout",
     "output_type": "stream",
     "text": [
      "5\n",
      "54321\n",
      "15\n"
     ]
    }
   ],
   "source": [
    "n=int(input())\n",
    "number=input('')\n",
    "s=list(range(n))\n",
    "i=0\n",
    "while i<n:\n",
    "    s[i]=int(number[i])\n",
    "    i=i+1\n",
    "i=0\n",
    "sum=0\n",
    "while i<n:\n",
    "    sum=sum+(s[i])\n",
    "    i=i+1\n",
    "print(sum)\n"
   ]
  },
  {
   "cell_type": "markdown",
   "metadata": {
    "collapsed": true
   },
   "source": [
    " ![이미지](https://github.com/fun5733/pythonHW/blob/master/PPP/3.png?raw=true)"
   ]
  },
  {
   "cell_type": "markdown",
   "metadata": {},
   "source": [
    "  #### 지금까지 강의를 듣고 공부해서 첫번째 과제를 해결해보았다.  처음에 python을 접할 때에는 지금까지 배워왔던 프로그래밍과는 다르게 웹 기반의 jupyter notebook을 사용하며 MarkDown을 이용해서 과제를 작성하는 것에 대해 어색함을 느꼈지만 과제를 해가면서 이것이 점점 익숙해져서 편해지는 것을 느낄 수 있었다. "
   ]
  }
 ],
 "metadata": {
  "kernelspec": {
   "display_name": "Python 3",
   "language": "python",
   "name": "python3"
  },
  "language_info": {
   "codemirror_mode": {
    "name": "ipython",
    "version": 3
   },
   "file_extension": ".py",
   "mimetype": "text/x-python",
   "name": "python",
   "nbconvert_exporter": "python",
   "pygments_lexer": "ipython3",
   "version": "3.6.1"
  }
 },
 "nbformat": 4,
 "nbformat_minor": 2
}
