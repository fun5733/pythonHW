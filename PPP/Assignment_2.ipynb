{
 "cells": [
  {
   "cell_type": "markdown",
   "metadata": {},
   "source": [
    " ### 과제 2"
   ]
  },
  {
   "cell_type": "markdown",
   "metadata": {},
   "source": [
    " #### 다음 6 개의 Expression에 대해 Evaluation 결과 값을 출력하고, 해당 결과가 나온 이유에 대해 설명하시오.\n",
    "   * 1 and 2 and 3 and 4\n",
    "   * 1 or 2 or 3 or 4\n",
    "   * 1 and 2 or 3 and 4\n",
    "   * (1 and 2) or (3 and 4)\n",
    "   * 1 or 2 and 3 or 4\n",
    "   * (1 or 2) and (3 or 4)"
   ]
  },
  {
   "cell_type": "code",
   "execution_count": 18,
   "metadata": {},
   "outputs": [
    {
     "name": "stdout",
     "output_type": "stream",
     "text": [
      "4\n"
     ]
    }
   ],
   "source": [
    "print(1 and 2 and 3 and 4)"
   ]
  },
  {
   "cell_type": "markdown",
   "metadata": {},
   "source": [
    " 모두 참인 연산이기 때문에 논리 연산을 따라 최종적으로 평가되어진 값이 반환되어서 마지막에 오는 4가 반환된다."
   ]
  },
  {
   "cell_type": "code",
   "execution_count": 17,
   "metadata": {},
   "outputs": [
    {
     "name": "stdout",
     "output_type": "stream",
     "text": [
      "1\n"
     ]
    }
   ],
   "source": [
    "print(1 or 2 or 3 or 4)"
   ]
  },
  {
   "cell_type": "markdown",
   "metadata": {},
   "source": [
    " 모두 or연산인데 처음에 1이 오므로 다음 값을 받을 필요가 없이 바로 1을 반환한다."
   ]
  },
  {
   "cell_type": "code",
   "execution_count": 32,
   "metadata": {},
   "outputs": [
    {
     "name": "stdout",
     "output_type": "stream",
     "text": [
      "2\n"
     ]
    }
   ],
   "source": [
    "print(1 and 2 or 3 and 4)"
   ]
  },
  {
   "cell_type": "markdown",
   "metadata": {},
   "source": [
    " and 연산을 or 연산보다 먼저 실행하므로 결국 (1 and 2) or (3 and 4) 과 같은 실행 순서가 되고, 이 경우 마지막이 or 연산이므로 먼저 1 and 2 를 실행하면서 참이 되었기 때문에 다음 값을 받을 필요 없이 바로 2를 반환한다."
   ]
  },
  {
   "cell_type": "code",
   "execution_count": 33,
   "metadata": {},
   "outputs": [
    {
     "name": "stdout",
     "output_type": "stream",
     "text": [
      "2\n"
     ]
    }
   ],
   "source": [
    "print((1 and 2) or (3 and 4))"
   ]
  },
  {
   "cell_type": "markdown",
   "metadata": {},
   "source": [
    " 위와 같은 순서이므로 동일한 실행 결과가 나온다."
   ]
  },
  {
   "cell_type": "code",
   "execution_count": 34,
   "metadata": {},
   "outputs": [
    {
     "name": "stdout",
     "output_type": "stream",
     "text": [
      "1\n"
     ]
    }
   ],
   "source": [
    "print(1 or 2 and 3 or 4)"
   ]
  },
  {
   "cell_type": "markdown",
   "metadata": {},
   "source": [
    " and 연산을 or연산보다 먼저 실행하므로 1 or (2 and 3) or 4 와 같은 실행 순서가 되고, 이 경우 and 연산 결과가 3이고 1 or 3을 실행함에 있어 결과는 1이 나오는데 마지막 연산이 or 연산이므로 다음 값을 받을 필요 없이 1이 반환한다."
   ]
  },
  {
   "cell_type": "code",
   "execution_count": 35,
   "metadata": {},
   "outputs": [
    {
     "name": "stdout",
     "output_type": "stream",
     "text": [
      "3\n"
     ]
    }
   ],
   "source": [
    "print((1 or 2) and (3 or 4))"
   ]
  },
  {
   "cell_type": "markdown",
   "metadata": {},
   "source": [
    " 괄호 안의 연산을 먼저 실행하면 마지막에 1 and 3 연산을 하게되고 and 연산이므로 마지막 값인 3을 반환한다."
   ]
  },
  {
   "cell_type": "markdown",
   "metadata": {},
   "source": [
    " #### 경로에 해당하는 문자열 1개를 입력 받아 그 안에 디렉토리 경로명과 파일명을 분리하여 리스트로 반환하는 함수 div_path(s)를 작성하시오. \n",
    " *  인자로 전달하는 문자열은 경로만 들어간다고 가정한다.\n",
    " *  각 디렉토리와 파일을 구분하는 문자는 '/'로 가정한다.\n",
    " *  반환하는 리스트의 첫번째 원소는 디렉토리이고 두번째 원소는 파일명이다.\n",
    " *  다음과 같은 실행 및 출력 결과가 도출되어야 한다.\n",
    "  *  div_path('/usr/local/bin/python')\n",
    "     *  ['/usr/local/bin', 'python']\n",
    "  *  div_path('/home/chulsoo/test.txt')\n",
    "     *  ['/home/chulsoo', 'test.txt']\n",
    " *  [참고] 리스트(l) 내에 새로운 정수값 (예를 들어 10)을 넣는 방법은 l.append(10) 이다."
   ]
  },
  {
   "cell_type": "code",
   "execution_count": 5,
   "metadata": {},
   "outputs": [
    {
     "name": "stdout",
     "output_type": "stream",
     "text": [
      "['/usr/local/bin', 'python']\n"
     ]
    }
   ],
   "source": [
    "def div_path(s):\n",
    "    a = s.split('/')\n",
    "    b = list(range(2))\n",
    "    b[1] = ''.join(a[-1:])\n",
    "    b[0] = '/'.join(a[0:-1]) \n",
    "    return b\n",
    "\n",
    "print(div_path('/usr/local/bin/python'))"
   ]
  },
  {
   "cell_type": "markdown",
   "metadata": {},
   "source": [
    " #### 두 개의 리스트를 인자로 받아서 그 두 개의 리스트에 대한 '합집합'을 반환하는 함수 list_union(lista, listb)를 작성하시오.\n",
    "   * 인자로 전달하는 리스트 2 개에는 정수값만 들어간다고 가정하자.\n",
    "   * 함수 내에서 새로운 리스트를 만들어 그 리스트 내에 인자로 받은 두 리스트의 모든 원소를 넣어 반환한다.\n",
    "   * 반환하는 리스트에는 절대로 중복된 원소가 들어 있으면 안된다 (집합의 조건).\n",
    "   * 반환하는 리스트는 정렬이 되어 있어야 한다.\n",
    "   * 다음과 같은 실행 및 출력 결과가 도출되어야 한다.\n",
    "     * list_union([1, 2, 3], [1, 2, 4])\n",
    "        * [1, 2, 3, 4]\n",
    "     * list_union([-10, -5, 0, -1], [100, 9, 0, 9])\n",
    "        * [-10, -5, -1, 0, 9, 100]\n",
    "     * list_union([0, 1, 2], [0, 1, 2])\n",
    "        * [0, 1, 2]\n",
    "   * [참고] 리스트(l) 내에 새로운 정수값 (예를 들어 10)을 넣는 방법은 l.append(10) 이다.\n",
    "   * [참고] 임의의 정수값 (x)이 리스트 (l) 내에 존재하는지 판단하는 방법은 x in l 이다."
   ]
  },
  {
   "cell_type": "code",
   "execution_count": 33,
   "metadata": {},
   "outputs": [
    {
     "name": "stdout",
     "output_type": "stream",
     "text": [
      "[1, 2, 3, 4]\n",
      "[-10, -5, -1, 0, 9, 100]\n",
      "[0, 1, 2]\n"
     ]
    }
   ],
   "source": [
    "\n",
    "def list_union(lista, listb):\n",
    "    listc = lista + listb\n",
    "    listc.sort()\n",
    "    temp = listc[0]\n",
    "    i = 1\n",
    "    while i<len(listc):\n",
    "        if temp == listc[i]:\n",
    "            listc.pop(i)\n",
    "        else:\n",
    "            temp = listc[i]\n",
    "            i = i+1\n",
    "    return listc\n",
    "print(list_union([1, 2, 3], [1, 2, 4]))\n",
    "print(list_union([-10, -5, 0, -1], [100, 9, 0, 9]))\n",
    "print(list_union([0, 1, 2], [0, 1, 2]))"
   ]
  },
  {
   "cell_type": "markdown",
   "metadata": {},
   "source": [
    "#### [ACM-ICPC 문제 1110번]\n",
    " * 더하기 사이클"
   ]
  },
  {
   "cell_type": "code",
   "execution_count": 3,
   "metadata": {},
   "outputs": [
    {
     "name": "stdout",
     "output_type": "stream",
     "text": [
      "99\n",
      "60\n"
     ]
    }
   ],
   "source": [
    "\n",
    "n = int(input())\n",
    "res = 0\n",
    "ntemp = n\n",
    "temp = 0\n",
    "count = 0\n",
    "while 1>0:\n",
    "    count = count + 1\n",
    "    if n<10 :\n",
    "        res = 10*n + n\n",
    "\n",
    "    else :\n",
    "        temp = int(n/10) + n%10\n",
    "        if temp<10 :\n",
    "            res = 10*(n%10) + temp\n",
    "        else :\n",
    "            res = 10*(n%10) + temp%10\n",
    "    if res == ntemp:\n",
    "        break\n",
    "    n = res\n",
    "    \n",
    "print(count)"
   ]
  },
  {
   "cell_type": "code",
   "execution_count": null,
   "metadata": {
    "collapsed": true
   },
   "outputs": [],
   "source": []
  },
  {
   "cell_type": "markdown",
   "metadata": {
    "collapsed": true
   },
   "source": [
    " #### [Incremental Project] 웹 URL로 지정된 웹페이지를 문자열로 가져와 1) 모든 HTML 태그를 제외한 순수 텍스트 문자열만을 걸러내고, 2) 그 순수 텍스트 문자열 안에 존재하는 단어가 총 몇개인지 출력하는 프로그램을 작성하시오.\n",
    "\n"
   ]
  },
  {
   "cell_type": "code",
   "execution_count": 8,
   "metadata": {},
   "outputs": [
    {
     "name": "stdout",
     "output_type": "stream",
     "text": [
      "469\n",
      "['컴퓨터공학부', '//', 'Schoolfun', '-', 'Study', 'and', 'Fun', '로그인', '로그인', '아이디', '비밀번호', '로그인', '유지', '브라우저를', '닫더라도', '로그인이', '계속', '유지될', '수', '있습니다.', '로그인', '유지', '기능을', '사용할', '경우', '다음', '접속부터는', '로그인할', '필요가', '없습니다.', '단,', '게임방,', '학교', '등', '공공장소에서', '이용', '시', '개인정보가', '유출될', '수', '있으니', '꼭', '로그아웃을', '해주세요.', '회원가입', 'ID/PW', '찾기', 'IT', '교육의', '글로벌', '메카!한국기술교육대학교', '컴퓨터공학부', 'Close', '소개', '구성원소개', '학사안내', '입학', '학부', '대학원', '학부광장', '자료실', '대학원', '공학교육인증', '학부서비스', 'Registration', '컴퓨터공학부', 'School', 'of', 'Computer', 'Science', 'and', 'Engineering', 'IT', '융합소프트웨어', '인력양성사업', 'CK', '(Creative', 'Korea)-I', '교육역량강화사업', '온라인', '컨텐츠', 'Online', 'Contents', 'for', 'Education', 'Capability', 'Empowerment', 'IT', '교육의', '글로벌', '메카', '한국기술교육대학교', '컴퓨터공학부', '홈페이지에', '오신', '것을환영합니다!', 'IT', '융합소프트웨어', '인력양성사업', '글로벌', '수준의', 'IT전문인력', '양성', 'IT융합분야에', '대한', '국제적인', '경쟁력', '고취', '바로가기', '교육역량강화사업', '컨텐츠', '교육역량강화사업', '온라인', '컨텐츠를', '소개합니다.', '바로가기', '공지사항', '[특성화]프레젠테이션', '실무', '자격증', '반', '특강', '2017-10-17', '17:41', '17:41', '2017년', '졸업작품', '영어발표', '경진대회', '및', '공학설계', '아이...', '2017-10-11', '09:24', '09:24', '[특성화]', '2017', 'IT융합', '프로그래밍', '경시대회', '모집', '공고', '2017-10-10', '15:49', '15:49', '[특성화]', 'ICTS', '2017', '중국', '전시회', '선발학생', '공고', '2017-09-28', '10:18', '10:18', '[특성화]', 'KES', '2017', '전시회', '선발학생', '공고', '2017-09-27', '15:20', '15:20', '자유게시판', '제6회', '레몬', '정보보호', '세미나', '개최', '2017-10-06', '23:40', '23:40', '예비역', '훈련', '및', '뒤풀이', '공지!', '2017-09-19', '21:16', '21:16', '모의토익비를', '지원해드립니다.^^', '2017-09-17', '20:08', '20:08', '4공학관', 'B동', '입구', '담배피우는', '문제로', '글을', '올립니다.', '2017-09-11', '22:13', '22:13', '학술소모임', '씨앗(Seed)에서', '신입', '회원', '모집', '및', '개강총...', '2017-09-05', '15:46', '15:46', '취업게시판', '[천안]', '(주)ABB코리아', '채용', '공고문', '-', '로봇사업부', '채용(...', '2017-09-29', '11:29', '11:29', '영풍전자(주)', '-', '[안산]_직무별[제조기술/품질/개발/마...', '2017-09-25', '10:04', '10:04', '[용인-수원(내년', '통합예정)]', '㈜라온옵틱스', '신입,', '경력...', '2017-09-25', '09:21', '09:21', '엑시콘', '산학공동연구소', '연구원', '모집(~9/18)', '2017-09-08', '13:46', '13:46', '[서울]', '에이치투오시스템테크놀로지(주)', 'IT개발', '및', '마...', '2017-09-04', '17:35', '17:35', 'Platum', '거쉬클라우드,', '300만', '달러', '규모', '전략적', '투자', '유치', '2017-10-18', '13:24', '13:24', '소셜', '카지노', '게임', '개발사', '‘밥게임즈’,', '40억', '원', '투자', '유치', '2017-10-18', '13:17', '13:17', '최대', '공유', '자전거', '기업', '‘모바이크’', '한국', '진출', '2017-10-18', '12:46', '12:46', '[인터뷰]', '고객과', '함께', '살아', '숨쉬는', '브랜드를', '지향한다.', '2017-10-18', '00:02', '00:02', '[인터뷰]', '육성', '스타트업', '기업가치', '15조', '원', '…', '‘텐센트', '...', '2017-10-17', '14:00', '14:00', '전자신문', '[미래기업', '포커스]우리넷,', '무선통신사업', '진출', '2017-10-18', '17:00', '17:00', '삼성전자', \"'빅스비'\", '다음', '달', '중국어', '서비스', '개시', '2017-10-18', '17:00', '17:00', \"'아이폰8\", \"플러스'\", '배터리', '샘플', '조사', '없이', '국내', '출시', '2017-10-18', '17:00', '17:00', '다산네트웍스,', '항공기용', '통신스위치', '국산화', '2017-10-18', '16:45', '16:45', '이효성', '방통위원장,', '평창', '동계올림픽', '준비상황', '점검', '2017-10-18', '16:15', '16:15', 'TechCrunch', 'Adobe', 'launches', 'a', 'cloud-centric', 'redesign', 'of', 'Lig...', '2017-10-18', '22:00', '22:00', 'Adobe’s', 'XD', 'prototyping', 'and', 'wireframing', 'tool', 'is...', '2017-10-18', '22:00', '22:00', 'Adobe', 'brings', 'visual', 'search', 'to', 'its', 'Typekit', 'font...', '2017-10-18', '22:00', '22:00', 'InVision', 'takes', 'on', 'Adobe', 'with', 'the', 'introduction', '...', '2017-10-18', '22:00', '22:00', 'Adobe', 'launches', 'Dimension', 'CC,', 'its', '3D', 'compositin...', '2017-10-18', '22:00', '22:00', 'Back', 'to', 'Top', 'Leading', 'Together', 'for', 'Brighter', 'Future', 'Quick', 'Navigation', '한국기술교육대학교', '홈페이지', '한국기술교육대학교', 'WEBMAIL', '한국기술교육대학교', '온라인', '평생교육원', 'IT', '융합소프트웨어', '인력양성사업', '컴퓨터공학부', '교직원', '업무', '자료실', '컴퓨터공학부', '포트폴리오', 'Campus', 'Location', 'Contact', 'CSE', '충청남도', '천안시', '동남구', '병천면', '충절로', '1600한국기술교육대학교', '컴퓨터공학부', '학과사무실', 'TEL', '(041)', '560', '1460', '~', '1461', 'FAX', '(041)', '560', '1462', 'Facebook', 'Twitter', 'Google', 'Plus', 'Linkedin', '(31253)', '충청남도', '천안시', '동남구', '병천면', '충절로', '1600', '(가전리,', '한국기술교육대학교)', '컴퓨터공학부', 'Copyright', '©', '2015.', 'All', 'rights', 'reserved', '800801802803804805']\n"
     ]
    }
   ],
   "source": [
    "from urllib import request \n",
    " \n",
    "url = 'http://cse.koreatech.ac.kr'\n",
    "f = request.urlopen(url)\n",
    "source_bytes = f.read()\n",
    "source = source_bytes.decode('utf-8')\n",
    "re = source.split('<')\n",
    "i = 0\n",
    "st = ''\n",
    "count = 0\n",
    "s2 = list(range(len(re)))\n",
    "s3 = list(range(len(re)))\n",
    "for x in re[1:]:\n",
    "    if '>' not in x:\n",
    "        re.remove(x)\n",
    "for x in re[1:]:\n",
    "    s = x.split('>')\n",
    "    s.reverse()\n",
    "    s3[i] = s[0]\n",
    "    i = i+1\n",
    "for x in s3:\n",
    "    st = st+str(x)\n",
    "st1 = st.split()\n",
    "for x in st1:\n",
    "    count = count+1\n",
    "print(count)\n",
    "print(st1)"
   ]
  },
  {
   "cell_type": "markdown",
   "metadata": {
    "collapsed": true
   },
   "source": [
    " 이번 과제는 리스트를 더욱 활용해서 풀어야 하는 문제가 많았다. 무슨 코드를 작성하던 많이 쓰이고, 이용할 수 있는 편리한 메소드가 다양하게 있어서 쓰임새가 많은 것 같다. 또, 저번 과제에서는 제대로 사용하지 않았던 함수를 만들기도 했다.\n",
    " 문제 중 더하기 사이클에서 좀 애를 먹었는데 정수로 바로 처리하기 보다 입력받은 값을 문자열로 처리하면 더 편했을 것 같다.\n",
    " 마지막 문제는 완전히 감이 안 잡혔지만 천천히 배운 내용을 복습하면서 써먹을 수 있는 부분을 찾아서 코드를 작성해가니 해결할 수 있었다. \n",
    " 파이썬이 처음에는 간단하기만 언어인 줄 알았지만 점점 배우는게 어려워지면서 쓰기에 따라서 복잡한 코드를 작성하는 데도 잘 맞는 것 같다."
   ]
  },
  {
   "cell_type": "code",
   "execution_count": null,
   "metadata": {
    "collapsed": true
   },
   "outputs": [],
   "source": []
  }
 ],
 "metadata": {
  "kernelspec": {
   "display_name": "Python 3",
   "language": "python",
   "name": "python3"
  },
  "language_info": {
   "codemirror_mode": {
    "name": "ipython",
    "version": 3
   },
   "file_extension": ".py",
   "mimetype": "text/x-python",
   "name": "python",
   "nbconvert_exporter": "python",
   "pygments_lexer": "ipython3",
   "version": "3.6.1"
  }
 },
 "nbformat": 4,
 "nbformat_minor": 2
}
